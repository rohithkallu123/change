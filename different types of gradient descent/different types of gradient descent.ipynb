{
 "cells": [
  {
   "cell_type": "code",
   "execution_count": 1,
   "id": "532295b5",
   "metadata": {},
   "outputs": [],
   "source": [
    "import pandas as pd \n",
    "import numpy as np\n",
    "import matplotlib.pyplot as plt\n",
    "%matplotlib inline"
   ]
  },
  {
   "cell_type": "code",
   "execution_count": 2,
   "id": "02dac604",
   "metadata": {},
   "outputs": [],
   "source": [
    "df=pd.read_csv('homeprices_banglore.txt')"
   ]
  },
  {
   "cell_type": "code",
   "execution_count": 3,
   "id": "d46ea38e",
   "metadata": {},
   "outputs": [
    {
     "data": {
      "text/html": [
       "<div>\n",
       "<style scoped>\n",
       "    .dataframe tbody tr th:only-of-type {\n",
       "        vertical-align: middle;\n",
       "    }\n",
       "\n",
       "    .dataframe tbody tr th {\n",
       "        vertical-align: top;\n",
       "    }\n",
       "\n",
       "    .dataframe thead th {\n",
       "        text-align: right;\n",
       "    }\n",
       "</style>\n",
       "<table border=\"1\" class=\"dataframe\">\n",
       "  <thead>\n",
       "    <tr style=\"text-align: right;\">\n",
       "      <th></th>\n",
       "      <th>area</th>\n",
       "      <th>bedrooms</th>\n",
       "      <th>price</th>\n",
       "    </tr>\n",
       "  </thead>\n",
       "  <tbody>\n",
       "    <tr>\n",
       "      <th>0</th>\n",
       "      <td>1056</td>\n",
       "      <td>2</td>\n",
       "      <td>39.07</td>\n",
       "    </tr>\n",
       "    <tr>\n",
       "      <th>1</th>\n",
       "      <td>2600</td>\n",
       "      <td>4</td>\n",
       "      <td>120.00</td>\n",
       "    </tr>\n",
       "    <tr>\n",
       "      <th>2</th>\n",
       "      <td>1440</td>\n",
       "      <td>3</td>\n",
       "      <td>62.00</td>\n",
       "    </tr>\n",
       "    <tr>\n",
       "      <th>3</th>\n",
       "      <td>1521</td>\n",
       "      <td>3</td>\n",
       "      <td>75.00</td>\n",
       "    </tr>\n",
       "    <tr>\n",
       "      <th>4</th>\n",
       "      <td>1200</td>\n",
       "      <td>2</td>\n",
       "      <td>51.00</td>\n",
       "    </tr>\n",
       "    <tr>\n",
       "      <th>5</th>\n",
       "      <td>1170</td>\n",
       "      <td>2</td>\n",
       "      <td>38.00</td>\n",
       "    </tr>\n",
       "    <tr>\n",
       "      <th>6</th>\n",
       "      <td>2732</td>\n",
       "      <td>4</td>\n",
       "      <td>135.00</td>\n",
       "    </tr>\n",
       "    <tr>\n",
       "      <th>7</th>\n",
       "      <td>3300</td>\n",
       "      <td>4</td>\n",
       "      <td>155.00</td>\n",
       "    </tr>\n",
       "    <tr>\n",
       "      <th>8</th>\n",
       "      <td>1310</td>\n",
       "      <td>3</td>\n",
       "      <td>50.00</td>\n",
       "    </tr>\n",
       "    <tr>\n",
       "      <th>9</th>\n",
       "      <td>3700</td>\n",
       "      <td>5</td>\n",
       "      <td>167.00</td>\n",
       "    </tr>\n",
       "    <tr>\n",
       "      <th>10</th>\n",
       "      <td>1800</td>\n",
       "      <td>3</td>\n",
       "      <td>82.00</td>\n",
       "    </tr>\n",
       "    <tr>\n",
       "      <th>11</th>\n",
       "      <td>2785</td>\n",
       "      <td>4</td>\n",
       "      <td>140.00</td>\n",
       "    </tr>\n",
       "    <tr>\n",
       "      <th>12</th>\n",
       "      <td>1000</td>\n",
       "      <td>2</td>\n",
       "      <td>38.00</td>\n",
       "    </tr>\n",
       "    <tr>\n",
       "      <th>13</th>\n",
       "      <td>1100</td>\n",
       "      <td>2</td>\n",
       "      <td>40.00</td>\n",
       "    </tr>\n",
       "    <tr>\n",
       "      <th>14</th>\n",
       "      <td>2250</td>\n",
       "      <td>3</td>\n",
       "      <td>101.00</td>\n",
       "    </tr>\n",
       "    <tr>\n",
       "      <th>15</th>\n",
       "      <td>1175</td>\n",
       "      <td>2</td>\n",
       "      <td>42.00</td>\n",
       "    </tr>\n",
       "    <tr>\n",
       "      <th>16</th>\n",
       "      <td>1180</td>\n",
       "      <td>3</td>\n",
       "      <td>48.00</td>\n",
       "    </tr>\n",
       "    <tr>\n",
       "      <th>17</th>\n",
       "      <td>1540</td>\n",
       "      <td>3</td>\n",
       "      <td>60.00</td>\n",
       "    </tr>\n",
       "    <tr>\n",
       "      <th>18</th>\n",
       "      <td>2770</td>\n",
       "      <td>3</td>\n",
       "      <td>102.00</td>\n",
       "    </tr>\n",
       "    <tr>\n",
       "      <th>19</th>\n",
       "      <td>800</td>\n",
       "      <td>1</td>\n",
       "      <td>32.00</td>\n",
       "    </tr>\n",
       "  </tbody>\n",
       "</table>\n",
       "</div>"
      ],
      "text/plain": [
       "    area  bedrooms   price\n",
       "0   1056         2   39.07\n",
       "1   2600         4  120.00\n",
       "2   1440         3   62.00\n",
       "3   1521         3   75.00\n",
       "4   1200         2   51.00\n",
       "5   1170         2   38.00\n",
       "6   2732         4  135.00\n",
       "7   3300         4  155.00\n",
       "8   1310         3   50.00\n",
       "9   3700         5  167.00\n",
       "10  1800         3   82.00\n",
       "11  2785         4  140.00\n",
       "12  1000         2   38.00\n",
       "13  1100         2   40.00\n",
       "14  2250         3  101.00\n",
       "15  1175         2   42.00\n",
       "16  1180         3   48.00\n",
       "17  1540         3   60.00\n",
       "18  2770         3  102.00\n",
       "19   800         1   32.00"
      ]
     },
     "execution_count": 3,
     "metadata": {},
     "output_type": "execute_result"
    }
   ],
   "source": [
    "df"
   ]
  },
  {
   "cell_type": "code",
   "execution_count": 4,
   "id": "8c740407",
   "metadata": {},
   "outputs": [
    {
     "data": {
      "text/plain": [
       "(20, 3)"
      ]
     },
     "execution_count": 4,
     "metadata": {},
     "output_type": "execute_result"
    }
   ],
   "source": [
    "df.shape"
   ]
  },
  {
   "cell_type": "code",
   "execution_count": 5,
   "id": "decf063c",
   "metadata": {},
   "outputs": [],
   "source": [
    "#scaling\n",
    "from sklearn.preprocessing import MinMaxScaler\n",
    "sx=MinMaxScaler()\n",
    "sy=MinMaxScaler()\n",
    "scaled_x=sx.fit_transform(df.drop('price',axis=1))\n"
   ]
  },
  {
   "cell_type": "code",
   "execution_count": 6,
   "id": "81784ca9",
   "metadata": {},
   "outputs": [
    {
     "data": {
      "text/plain": [
       "array([[0.08827586, 0.25      ],\n",
       "       [0.62068966, 0.75      ],\n",
       "       [0.22068966, 0.5       ],\n",
       "       [0.24862069, 0.5       ],\n",
       "       [0.13793103, 0.25      ],\n",
       "       [0.12758621, 0.25      ],\n",
       "       [0.6662069 , 0.75      ],\n",
       "       [0.86206897, 0.75      ],\n",
       "       [0.17586207, 0.5       ],\n",
       "       [1.        , 1.        ],\n",
       "       [0.34482759, 0.5       ],\n",
       "       [0.68448276, 0.75      ],\n",
       "       [0.06896552, 0.25      ],\n",
       "       [0.10344828, 0.25      ],\n",
       "       [0.5       , 0.5       ],\n",
       "       [0.12931034, 0.25      ],\n",
       "       [0.13103448, 0.5       ],\n",
       "       [0.25517241, 0.5       ],\n",
       "       [0.67931034, 0.5       ],\n",
       "       [0.        , 0.        ]])"
      ]
     },
     "execution_count": 6,
     "metadata": {},
     "output_type": "execute_result"
    }
   ],
   "source": [
    "scaled_x"
   ]
  },
  {
   "cell_type": "code",
   "execution_count": 7,
   "id": "18f5c1e3",
   "metadata": {},
   "outputs": [
    {
     "data": {
      "text/plain": [
       "array([[0.05237037],\n",
       "       [0.65185185],\n",
       "       [0.22222222],\n",
       "       [0.31851852],\n",
       "       [0.14074074],\n",
       "       [0.04444444],\n",
       "       [0.76296296],\n",
       "       [0.91111111],\n",
       "       [0.13333333],\n",
       "       [1.        ],\n",
       "       [0.37037037],\n",
       "       [0.8       ],\n",
       "       [0.04444444],\n",
       "       [0.05925926],\n",
       "       [0.51111111],\n",
       "       [0.07407407],\n",
       "       [0.11851852],\n",
       "       [0.20740741],\n",
       "       [0.51851852],\n",
       "       [0.        ]])"
      ]
     },
     "execution_count": 7,
     "metadata": {},
     "output_type": "execute_result"
    }
   ],
   "source": [
    "scaled_y=sy.fit_transform(df['price'].values.reshape(len(df),1))\n",
    "scaled_y"
   ]
  },
  {
   "cell_type": "code",
   "execution_count": 8,
   "id": "9f744531",
   "metadata": {},
   "outputs": [
    {
     "data": {
      "text/plain": [
       "(20, 1)"
      ]
     },
     "execution_count": 8,
     "metadata": {},
     "output_type": "execute_result"
    }
   ],
   "source": [
    "scaled_y.shape"
   ]
  },
  {
   "cell_type": "code",
   "execution_count": 9,
   "id": "27b04cc0",
   "metadata": {},
   "outputs": [],
   "source": [
    "def batch_gradient_descent(X,y_true,epochs,learning_rate=0.01):\n",
    "    no_of_features=X.shape[1]\n",
    "    \n",
    "    #initialising w and b values\n",
    "    w=np.ones(shape=(no_of_features,1))\n",
    "    b=0\n",
    "    \n",
    "    costs=[]\n",
    "    epochs_list=[]\n",
    "    total_samples=X.shape[0]#m\n",
    "    for i in range(epochs):\n",
    "        \n",
    "        #predicting the values\n",
    "        #a\n",
    "        y_predicted=(np.dot(w.T,X.T)+b).T\n",
    "        \n",
    "        #dz=y_predicted-y_true\n",
    "        #column vector\n",
    "        #x--(m,#features)\n",
    "        #w--(#features,1)\n",
    "        #y,dz--(m,1)\n",
    "        dw=(1/total_samples)*np.dot(X.T,y_predicted-y_true)\n",
    "        db=np.sum(y_predicted-y_true)\n",
    "        \n",
    "        #updating the w and b value\n",
    "        w=w-learning_rate*dw\n",
    "        b=b-learning_rate*db\n",
    "        \n",
    "        #cost function values\n",
    "        cost=np.mean(np.square(y_predicted-y_true))\n",
    "        \n",
    "        #recording the cost values at every 10 th iteration\n",
    "        if i%10==0:\n",
    "            costs.append(cost)\n",
    "            epochs_list.append(i)\n",
    "    \n",
    "    #returning the parameters and bias and last cost and list of cost values and list of epochs\n",
    "    return w,b,cost,costs,epochs_list"
   ]
  },
  {
   "cell_type": "code",
   "execution_count": 12,
   "id": "ecb83383",
   "metadata": {},
   "outputs": [],
   "source": [
    "w,b,cost,costs,epochs_list=batch_gradient_descent(scaled_x,scaled_y,500)"
   ]
  },
  {
   "cell_type": "code",
   "execution_count": 13,
   "id": "1b47398f",
   "metadata": {},
   "outputs": [
    {
     "data": {
      "text/plain": [
       "(array([[0.79980832],\n",
       "        [0.81205036]]),\n",
       " -0.3214609053987877,\n",
       " 0.015730942820522557)"
      ]
     },
     "execution_count": 13,
     "metadata": {},
     "output_type": "execute_result"
    }
   ],
   "source": [
    "w,b,cost"
   ]
  },
  {
   "cell_type": "code",
   "execution_count": 14,
   "id": "806b04c5",
   "metadata": {},
   "outputs": [
    {
     "data": {
      "text/plain": [
       "Text(0, 0.5, 'cost function')"
      ]
     },
     "execution_count": 14,
     "metadata": {},
     "output_type": "execute_result"
    },
    {
     "data": {
      "image/png": "[encoded data removed]",
      "text/plain": [
       "<Figure size 432x288 with 1 Axes>"
      ]
     },
     "metadata": {
      "needs_background": "light"
     },
     "output_type": "display_data"
    }
   ],
   "source": [
    "plt.plot(epochs_list,costs)\n",
    "plt.xlabel('iterations')\n",
    "plt.ylabel('cost function')"
   ]
  },
  {
   "cell_type": "code",
   "execution_count": 15,
   "id": "847a3b04",
   "metadata": {},
   "outputs": [
    {
     "data": {
      "text/plain": [
       "array([[0.55172414, 0.5       ]])"
      ]
     },
     "execution_count": 15,
     "metadata": {},
     "output_type": "execute_result"
    }
   ],
   "source": [
    "sx.transform([[2400,3]])"
   ]
  },
  {
   "cell_type": "code",
   "execution_count": 19,
   "id": "bb7ae705",
   "metadata": {},
   "outputs": [
    {
     "data": {
      "text/plain": [
       "array([[-0.20740741]])"
      ]
     },
     "execution_count": 19,
     "metadata": {},
     "output_type": "execute_result"
    }
   ],
   "source": [
    "sy.transform([[4]])"
   ]
  },
  {
   "cell_type": "code",
   "execution_count": 24,
   "id": "7619144a",
   "metadata": {},
   "outputs": [],
   "source": [
    "#predicting function\n",
    "def predict(area,bedrooms,w,b):\n",
    "    scaled_x=sx.transform([[area,bedrooms]])\n",
    "    \n",
    "    scaled_price=w[0]*area+w[1]*bedrooms+b\n",
    "    \n",
    "    price=sy.inverse_transform([scaled_price])\n",
    "    return price"
   ]
  },
  {
   "cell_type": "code",
   "execution_count": 25,
   "id": "2b393544",
   "metadata": {},
   "outputs": [
    {
     "data": {
      "text/plain": [
       "array([[108181.97982852]])"
      ]
     },
     "execution_count": 25,
     "metadata": {},
     "output_type": "execute_result"
    }
   ],
   "source": [
    "predict(1000,2,w,b)"
   ]
  },
  {
   "cell_type": "code",
   "execution_count": 26,
   "id": "361cedb1",
   "metadata": {},
   "outputs": [
    {
     "data": {
      "text/plain": [
       "array([[162278.6683539]])"
      ]
     },
     "execution_count": 26,
     "metadata": {},
     "output_type": "execute_result"
    }
   ],
   "source": [
    "predict(1500,3,w,b)"
   ]
  },
  {
   "cell_type": "code",
   "execution_count": 27,
   "id": "db544068",
   "metadata": {},
   "outputs": [
    {
     "data": {
      "text/plain": [
       "5"
      ]
     },
     "execution_count": 27,
     "metadata": {},
     "output_type": "execute_result"
    }
   ],
   "source": [
    "import random\n",
    "random.randint(0,6)"
   ]
  },
  {
   "cell_type": "code",
   "execution_count": 70,
   "id": "7b111722",
   "metadata": {},
   "outputs": [],
   "source": [
    "def stochastic_gradient_descent(X,y_true,epochs,learning_rate=0.01):\n",
    "    no_of_features=X.shape[1]\n",
    "    \n",
    "    #initialising w and b values\n",
    "    w=np.ones(shape=(no_of_features,1))\n",
    "    b=0\n",
    "    \n",
    "    costs=[]\n",
    "    epochs_list=[]\n",
    "    total_samples=X.shape[0]#m\n",
    "    for i in range(epochs):\n",
    "        random_index=random.randint(0,no_of_features-1)\n",
    "        sample_x=X[random_index]\n",
    "        sample_y=y_true[random_index][0]\n",
    "        \n",
    "        y_predicted=(np.dot(w.T,sample_x)[0]+b)\n",
    "        print(y_predicted.shape)\n",
    "        dw=(1/total_samples)*((sample_x.T)*(y_predicted-sample_y))\n",
    "        db=y_predicted-sample_y\n",
    "        \n",
    "        #updating the w,b values\n",
    "        w=w-learning_rate*dw\n",
    "        b=b-learning_rate*db\n",
    "        \n",
    "        cost=np.mean(np.square(y_predicted-sample_y))\n",
    "        \n",
    "        if i%100==0:\n",
    "            costs.append(cost)\n",
    "            epochs_list.append(i)\n",
    "            \n",
    "    return w,b,cost,costs,epochs_list\n",
    "            \n",
    "        "
   ]
  },
  {
   "cell_type": "code",
   "execution_count": 79,
   "id": "71f38172",
   "metadata": {},
   "outputs": [],
   "source": [
    "w,b,cost,costs,epochs_list=stochastic_gradient_descent(scaled_x,scaled_y,5001)"
   ]
  },
  {
   "cell_type": "code",
   "execution_count": 80,
   "id": "9e4a9b9c",
   "metadata": {},
   "outputs": [
    {
     "data": {
      "text/plain": [
       "(array([[0.87390846, 0.87844582],\n",
       "        [0.87390846, 0.87844582]]),\n",
       " -0.37573024791375886,\n",
       " 0.02960776409965153,\n",
       " [0.08174195018341542,\n",
       "  0.16663653047635194,\n",
       "  0.08448801469419505,\n",
       "  0.03415164265281203,\n",
       "  0.04437144237797753,\n",
       "  0.046615375885631104,\n",
       "  0.043236652324036375,\n",
       "  0.035257133308081376,\n",
       "  0.03526801336122387,\n",
       "  0.044533553466004606,\n",
       "  0.05266990850429955,\n",
       "  0.055606676149204566,\n",
       "  0.03804426758548592,\n",
       "  0.03769727751954338,\n",
       "  0.033085640146172546,\n",
       "  0.03729085730958813,\n",
       "  0.03389644477993044,\n",
       "  0.03703636474981069,\n",
       "  0.033696068389739556,\n",
       "  0.037186040233604875,\n",
       "  0.032515588868539176,\n",
       "  0.025468160907413988,\n",
       "  0.03019778815347953,\n",
       "  0.03322164116545607,\n",
       "  0.03468305322939317,\n",
       "  0.027418268720174863,\n",
       "  0.027466123534194368,\n",
       "  0.029820221985638638,\n",
       "  0.033972607249153144,\n",
       "  0.029916410423579304,\n",
       "  0.029210153592685667,\n",
       "  0.02217956134904008,\n",
       "  0.03694988670461906,\n",
       "  0.022050624493293595,\n",
       "  0.03994173110093811,\n",
       "  0.02054232926711651,\n",
       "  0.03486637430630976,\n",
       "  0.028331965583605113,\n",
       "  0.022260387280150208,\n",
       "  0.029011170577982526,\n",
       "  0.02718047973420135,\n",
       "  0.027112341124412975,\n",
       "  0.026320921515543667,\n",
       "  0.02358315440408687,\n",
       "  0.023496646831924272,\n",
       "  0.028652939713382255,\n",
       "  0.027352766885550734,\n",
       "  0.025755168519247716,\n",
       "  0.022750006024477725,\n",
       "  0.018094808688134647,\n",
       "  0.02960776409965153],\n",
       " [0,\n",
       "  100,\n",
       "  200,\n",
       "  300,\n",
       "  400,\n",
       "  500,\n",
       "  600,\n",
       "  700,\n",
       "  800,\n",
       "  900,\n",
       "  1000,\n",
       "  1100,\n",
       "  1200,\n",
       "  1300,\n",
       "  1400,\n",
       "  1500,\n",
       "  1600,\n",
       "  1700,\n",
       "  1800,\n",
       "  1900,\n",
       "  2000,\n",
       "  2100,\n",
       "  2200,\n",
       "  2300,\n",
       "  2400,\n",
       "  2500,\n",
       "  2600,\n",
       "  2700,\n",
       "  2800,\n",
       "  2900,\n",
       "  3000,\n",
       "  3100,\n",
       "  3200,\n",
       "  3300,\n",
       "  3400,\n",
       "  3500,\n",
       "  3600,\n",
       "  3700,\n",
       "  3800,\n",
       "  3900,\n",
       "  4000,\n",
       "  4100,\n",
       "  4200,\n",
       "  4300,\n",
       "  4400,\n",
       "  4500,\n",
       "  4600,\n",
       "  4700,\n",
       "  4800,\n",
       "  4900,\n",
       "  5000])"
      ]
     },
     "execution_count": 80,
     "metadata": {},
     "output_type": "execute_result"
    }
   ],
   "source": [
    "w,b,cost,costs,epochs_list"
   ]
  },
  {
   "cell_type": "code",
   "execution_count": 81,
   "id": "94a3559d",
   "metadata": {},
   "outputs": [
    {
     "data": {
      "text/plain": [
       "[<matplotlib.lines.Line2D at 0x2573acda940>]"
      ]
     },
     "execution_count": 81,
     "metadata": {},
     "output_type": "execute_result"
    },
    {
     "data": {
      "image/png": "[encoded data removed]",
      "text/plain": [
       "<Figure size 432x288 with 1 Axes>"
      ]
     },
     "metadata": {
      "needs_background": "light"
     },
     "output_type": "display_data"
    }
   ],
   "source": [
    "plt.plot(epochs_list,costs)"
   ]
  },
  {
   "cell_type": "code",
   "execution_count": null,
   "id": "a25bdf8b",
   "metadata": {},
   "outputs": [],
   "source": []
  }
 ],
 "metadata": {
  "kernelspec": {
   "display_name": "Python 3",
   "language": "python",
   "name": "python3"
  },
  "language_info": {
   "codemirror_mode": {
    "name": "ipython",
    "version": 3
   },
   "file_extension": ".py",
   "mimetype": "text/x-python",
   "name": "python",
   "nbconvert_exporter": "python",
   "pygments_lexer": "ipython3",
   "version": "3.8.8"
  }
 },
 "nbformat": 4,
 "nbformat_minor": 5
}
