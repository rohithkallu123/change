{
 "cells": [
  {
   "cell_type": "markdown",
   "id": "c352bdd5",
   "metadata": {},
   "source": [
    "### REGEX"
   ]
  },
  {
   "cell_type": "code",
   "execution_count": 1,
   "id": "9a181ba6",
   "metadata": {},
   "outputs": [],
   "source": [
    "import re"
   ]
  },
  {
   "cell_type": "markdown",
   "id": "e2e5e44b",
   "metadata": {},
   "source": [
    "**re.findall (pattern, string)** \n",
    "\n",
    "get a list of all matching patterns.It has no constraints of searching from start or end."
   ]
  },
  {
   "cell_type": "code",
   "execution_count": 3,
   "id": "30c5993c",
   "metadata": {},
   "outputs": [
    {
     "data": {
      "text/plain": [
       "'AV Analytics Vidhya AV'"
      ]
     },
     "execution_count": 3,
     "metadata": {},
     "output_type": "execute_result"
    }
   ],
   "source": [
    "s='AV Analytics Vidhya AV'\n",
    "s"
   ]
  },
  {
   "cell_type": "code",
   "execution_count": 4,
   "id": "8ec24ee9",
   "metadata": {},
   "outputs": [
    {
     "data": {
      "text/plain": [
       "['AV', 'AV']"
      ]
     },
     "execution_count": 4,
     "metadata": {},
     "output_type": "execute_result"
    }
   ],
   "source": [
    "re.findall('AV',s)"
   ]
  },
  {
   "cell_type": "markdown",
   "id": "b3ceea3d",
   "metadata": {},
   "source": [
    "**Operators\tDescription**\n",
    "\n",
    ".\t Matches with any single character except newline ‘\\n’.\n",
    "\n",
    "?\t match 0 or 1 occurrence of the pattern to its left\n",
    "\n",
    "+\t 1 or more occurrences of the pattern to its left\n",
    "\n",
    "*\t 0 or more occurrences of the pattern to its left\n",
    "\n",
    "\\w\t Matches with a alphanumeric character whereas \\W (upper case W) matches non alphanumeric character.\n",
    "\n",
    "\\d\t  Matches with digits [0-9] and /D (upper case D) matches with non-digits.\n",
    "\n",
    "\\s\t Matches with a single white space character (space, newline, return, tab, form) and \\S (upper case S) matches any non-white space character.\n",
    "\n",
    "\\b\t boundary between word and non-word and /B is opposite of /b\n",
    "\n",
    "[..]\t Matches any single character in a square bracket and [^..] matches any single character not in square bracket\n",
    "\n",
    "\\\t It is used for special meaning characters like \\. to match a period or \\+ for plus sign.\n",
    "\n",
    "^  match the start \n",
    "\n",
    "$  end of the string respectively\n",
    "\n",
    "{n,m}\t Matches at least n and at most m occurrences of preceding expression if we write it as {,m} then it will return at least any minimum occurrence to max m preceding expression.\n",
    "\n",
    "a| b\t Matches either a or b\n",
    "\n",
    "( )\tGroups regular expressions and returns matched text\n",
    "\n",
    "\\t, \\n, \\r\t Matches tab, newline, return"
   ]
  },
  {
   "cell_type": "markdown",
   "id": "3d9d3a3f",
   "metadata": {},
   "source": [
    "**Problem 1: Return the first word of a given string**"
   ]
  },
  {
   "cell_type": "code",
   "execution_count": 5,
   "id": "3b1b3bfc",
   "metadata": {},
   "outputs": [
    {
     "data": {
      "text/plain": [
       "'AV is largest Analytics community of India'"
      ]
     },
     "execution_count": 5,
     "metadata": {},
     "output_type": "execute_result"
    }
   ],
   "source": [
    "s='AV is largest Analytics community of India'\n",
    "s"
   ]
  },
  {
   "cell_type": "code",
   "execution_count": 7,
   "id": "c5d3c10b",
   "metadata": {},
   "outputs": [
    {
     "data": {
      "text/plain": [
       "['A',\n",
       " 'V',\n",
       " ' ',\n",
       " 'i',\n",
       " 's',\n",
       " ' ',\n",
       " 'l',\n",
       " 'a',\n",
       " 'r',\n",
       " 'g',\n",
       " 'e',\n",
       " 's',\n",
       " 't',\n",
       " ' ',\n",
       " 'A',\n",
       " 'n',\n",
       " 'a',\n",
       " 'l',\n",
       " 'y',\n",
       " 't',\n",
       " 'i',\n",
       " 'c',\n",
       " 's',\n",
       " ' ',\n",
       " 'c',\n",
       " 'o',\n",
       " 'm',\n",
       " 'm',\n",
       " 'u',\n",
       " 'n',\n",
       " 'i',\n",
       " 't',\n",
       " 'y',\n",
       " ' ',\n",
       " 'o',\n",
       " 'f',\n",
       " ' ',\n",
       " 'I',\n",
       " 'n',\n",
       " 'd',\n",
       " 'i',\n",
       " 'a']"
      ]
     },
     "execution_count": 7,
     "metadata": {},
     "output_type": "execute_result"
    }
   ],
   "source": [
    "re.findall('.',s)\n",
    "# . matches all characters except a new line here spaces will also be included"
   ]
  },
  {
   "cell_type": "code",
   "execution_count": 9,
   "id": "e210a530",
   "metadata": {},
   "outputs": [
    {
     "data": {
      "text/plain": [
       "['A',\n",
       " 'V',\n",
       " 'i',\n",
       " 's',\n",
       " 'l',\n",
       " 'a',\n",
       " 'r',\n",
       " 'g',\n",
       " 'e',\n",
       " 's',\n",
       " 't',\n",
       " 'A',\n",
       " 'n',\n",
       " 'a',\n",
       " 'l',\n",
       " 'y',\n",
       " 't',\n",
       " 'i',\n",
       " 'c',\n",
       " 's',\n",
       " 'c',\n",
       " 'o',\n",
       " 'm',\n",
       " 'm',\n",
       " 'u',\n",
       " 'n',\n",
       " 'i',\n",
       " 't',\n",
       " 'y',\n",
       " 'o',\n",
       " 'f',\n",
       " 'I',\n",
       " 'n',\n",
       " 'd',\n",
       " 'i',\n",
       " 'a']"
      ]
     },
     "execution_count": 9,
     "metadata": {},
     "output_type": "execute_result"
    }
   ],
   "source": [
    "#not matching the spaces\n",
    "#we use \\w for alphanumeric character\n",
    "re.findall('\\w',s)\n",
    "#spaces will not be included in the match"
   ]
  },
  {
   "cell_type": "code",
   "execution_count": 10,
   "id": "96fb2a88",
   "metadata": {},
   "outputs": [
    {
     "data": {
      "text/plain": [
       "['AV',\n",
       " '',\n",
       " 'is',\n",
       " '',\n",
       " 'largest',\n",
       " '',\n",
       " 'Analytics',\n",
       " '',\n",
       " 'community',\n",
       " '',\n",
       " 'of',\n",
       " '',\n",
       " 'India',\n",
       " '']"
      ]
     },
     "execution_count": 10,
     "metadata": {},
     "output_type": "execute_result"
    }
   ],
   "source": [
    "#* means 0 or more\n",
    "#+ means 1 or more\n",
    "re.findall('\\w*',s)\n",
    "#here we will get words and as well we will get spaces also because 0 or more matches"
   ]
  },
  {
   "cell_type": "code",
   "execution_count": 11,
   "id": "cffca5cc",
   "metadata": {},
   "outputs": [
    {
     "data": {
      "text/plain": [
       "['AV', 'is', 'largest', 'Analytics', 'community', 'of', 'India']"
      ]
     },
     "execution_count": 11,
     "metadata": {},
     "output_type": "execute_result"
    }
   ],
   "source": [
    "re.findall('\\w+',s)\n",
    "#here we will get words only\n",
    "#once or more"
   ]
  },
  {
   "cell_type": "code",
   "execution_count": 12,
   "id": "15e065a6",
   "metadata": {},
   "outputs": [
    {
     "data": {
      "text/plain": [
       "['AV']"
      ]
     },
     "execution_count": 12,
     "metadata": {},
     "output_type": "execute_result"
    }
   ],
   "source": [
    "# ^ means starting \n",
    "#we want first word it is of one or more letter\n",
    "re.findall('^\\w+',s)"
   ]
  },
  {
   "cell_type": "code",
   "execution_count": 13,
   "id": "1525b6db",
   "metadata": {},
   "outputs": [
    {
     "data": {
      "text/plain": [
       "['India']"
      ]
     },
     "execution_count": 13,
     "metadata": {},
     "output_type": "execute_result"
    }
   ],
   "source": [
    "#$ means ending\n",
    "#we want last word \n",
    "re.findall('\\w+$',s)"
   ]
  },
  {
   "cell_type": "markdown",
   "id": "5248762e",
   "metadata": {},
   "source": [
    "**Problem 2: Return the first two character of each word**"
   ]
  },
  {
   "cell_type": "code",
   "execution_count": 18,
   "id": "5d5e81f0",
   "metadata": {},
   "outputs": [
    {
     "data": {
      "text/plain": [
       "'AV is largest Analytics community of India'"
      ]
     },
     "execution_count": 18,
     "metadata": {},
     "output_type": "execute_result"
    }
   ],
   "source": [
    "s"
   ]
  },
  {
   "cell_type": "code",
   "execution_count": 15,
   "id": "1c028c8c",
   "metadata": {},
   "outputs": [
    {
     "data": {
      "text/plain": [
       "['VV', 'VV']"
      ]
     },
     "execution_count": 15,
     "metadata": {},
     "output_type": "execute_result"
    }
   ],
   "source": [
    "t='AVVVV is largest Analytics community of India'\n",
    "re.findall('VV',t)\n",
    "#matches only two matches i.e 1-3 and 3-5\n",
    "#it finds the match in the string which previous match is excluded"
   ]
  },
  {
   "cell_type": "code",
   "execution_count": 16,
   "id": "40bb676b",
   "metadata": {},
   "outputs": [
    {
     "data": {
      "text/plain": [
       "['AV',\n",
       " 'VV',\n",
       " 'is',\n",
       " 'la',\n",
       " 'rg',\n",
       " 'es',\n",
       " 'An',\n",
       " 'al',\n",
       " 'yt',\n",
       " 'ic',\n",
       " 'co',\n",
       " 'mm',\n",
       " 'un',\n",
       " 'it',\n",
       " 'of',\n",
       " 'In',\n",
       " 'di']"
      ]
     },
     "execution_count": 16,
     "metadata": {},
     "output_type": "execute_result"
    }
   ],
   "source": [
    "#consecutive 2 letters without spaces\n",
    "re.findall('\\w\\w',t)"
   ]
  },
  {
   "cell_type": "code",
   "execution_count": 27,
   "id": "42531dc5",
   "metadata": {},
   "outputs": [
    {
     "data": {
      "text/plain": [
       "['AV', 'is', 'la', 'An', 'co', 'of', 'In']"
      ]
     },
     "execution_count": 27,
     "metadata": {},
     "output_type": "execute_result"
    }
   ],
   "source": [
    "# Extract consecutive two characters those available at start of word boundary (using “\\b“)\n",
    "#\\b word boundary\n",
    "re.findall(r'\\b\\w\\w',s)"
   ]
  },
  {
   "cell_type": "markdown",
   "id": "e93620fd",
   "metadata": {},
   "source": [
    "**Problem 3: Return the domain type of given email-ids**"
   ]
  },
  {
   "cell_type": "code",
   "execution_count": 28,
   "id": "66c9604b",
   "metadata": {},
   "outputs": [],
   "source": [
    "email='abc.test@gmail.com, xyz@test.in, test.first@analyticsvidhya.com, first.test@rest.biz'"
   ]
  },
  {
   "cell_type": "code",
   "execution_count": 32,
   "id": "3e30913b",
   "metadata": {},
   "outputs": [
    {
     "data": {
      "text/plain": [
       "['@gmail', '@test', '@analyticsvidhya', '@rest']"
      ]
     },
     "execution_count": 32,
     "metadata": {},
     "output_type": "execute_result"
    }
   ],
   "source": [
    "re.findall('@\\w+',email)\n",
    "#matches@ followed by word once or more"
   ]
  },
  {
   "cell_type": "code",
   "execution_count": 33,
   "id": "ef9d0ebd",
   "metadata": {},
   "outputs": [
    {
     "data": {
      "text/plain": [
       "['@gmail.com', '@test.in', '@analyticsvidhya.com', '@rest.biz']"
      ]
     },
     "execution_count": 33,
     "metadata": {},
     "output_type": "execute_result"
    }
   ],
   "source": [
    "re.findall('@\\w+.\\w+',email)"
   ]
  },
  {
   "cell_type": "code",
   "execution_count": 34,
   "id": "a57e86e8",
   "metadata": {},
   "outputs": [],
   "source": [
    "#extracting only domain name \n",
    "#domain name is com in gmail.com\n",
    "#.in in ac.in"
   ]
  },
  {
   "cell_type": "code",
   "execution_count": 35,
   "id": "cdfc3b58",
   "metadata": {},
   "outputs": [
    {
     "data": {
      "text/plain": [
       "['com', 'in', 'com', 'biz']"
      ]
     },
     "execution_count": 35,
     "metadata": {},
     "output_type": "execute_result"
    }
   ],
   "source": [
    "#() to extract the match\n",
    "re.findall('@\\w+.(\\w+)',email)"
   ]
  },
  {
   "cell_type": "markdown",
   "id": "8710cf71",
   "metadata": {},
   "source": [
    "**Problem 4: Return date from given string**"
   ]
  },
  {
   "cell_type": "code",
   "execution_count": 36,
   "id": "85ba2fe4",
   "metadata": {},
   "outputs": [],
   "source": [
    "date='Amit 34-3456 12-05-2007, XYZ 56-4532 11-11-2011, ABC 67-8945 12-01-2009'"
   ]
  },
  {
   "cell_type": "code",
   "execution_count": 37,
   "id": "ae71f782",
   "metadata": {},
   "outputs": [
    {
     "data": {
      "text/plain": [
       "['12-05-2007', '11-11-2011', '12-01-2009']"
      ]
     },
     "execution_count": 37,
     "metadata": {},
     "output_type": "execute_result"
    }
   ],
   "source": [
    "re.findall('\\d{2}-\\d{2}-\\d{4}',date)"
   ]
  },
  {
   "cell_type": "code",
   "execution_count": 38,
   "id": "a351eb22",
   "metadata": {},
   "outputs": [
    {
     "data": {
      "text/plain": [
       "['2007', '2011', '2009']"
      ]
     },
     "execution_count": 38,
     "metadata": {},
     "output_type": "execute_result"
    }
   ],
   "source": [
    "#extracting only years in paranthesis\n",
    "re.findall('\\d{2}-\\d{2}-(\\d{4})',date)"
   ]
  },
  {
   "cell_type": "markdown",
   "id": "8a284b73",
   "metadata": {},
   "source": [
    "**Problem 5: Return all words of a string those starts with vowel**"
   ]
  },
  {
   "cell_type": "code",
   "execution_count": 39,
   "id": "08b70cad",
   "metadata": {},
   "outputs": [
    {
     "data": {
      "text/plain": [
       "'AV is largest Analytics community of India'"
      ]
     },
     "execution_count": 39,
     "metadata": {},
     "output_type": "execute_result"
    }
   ],
   "source": [
    "s='AV is largest Analytics community of India'\n",
    "s"
   ]
  },
  {
   "cell_type": "code",
   "execution_count": 46,
   "id": "066147d3",
   "metadata": {},
   "outputs": [
    {
     "data": {
      "text/plain": [
       "['AV', 'is', 'largest', 'Analytics', 'community', 'of', 'India']"
      ]
     },
     "execution_count": 46,
     "metadata": {},
     "output_type": "execute_result"
    }
   ],
   "source": [
    "re.findall('\\w+',s)\n",
    "#extracting words"
   ]
  },
  {
   "cell_type": "code",
   "execution_count": 47,
   "id": "857b07dd",
   "metadata": {},
   "outputs": [
    {
     "data": {
      "text/plain": [
       "['AV', 'is', 'argest', 'Analytics', 'ommunity', 'of', 'India']"
      ]
     },
     "execution_count": 47,
     "metadata": {},
     "output_type": "execute_result"
    }
   ],
   "source": [
    "re.findall('[aeiouAEIOU]\\w*',s)"
   ]
  },
  {
   "cell_type": "code",
   "execution_count": 49,
   "id": "1841ca27",
   "metadata": {},
   "outputs": [
    {
     "data": {
      "text/plain": [
       "['AV', 'is', 'Analytics', 'of', 'India']"
      ]
     },
     "execution_count": 49,
     "metadata": {},
     "output_type": "execute_result"
    }
   ],
   "source": [
    "#we should use word boundary \\b\n",
    "re.findall(r'\\b[aeiouAEIOU]\\w*',s)"
   ]
  },
  {
   "cell_type": "markdown",
   "id": "e6acbadf",
   "metadata": {},
   "source": [
    "**consonants words**"
   ]
  },
  {
   "cell_type": "code",
   "execution_count": 55,
   "id": "bbef8c85",
   "metadata": {},
   "outputs": [
    {
     "data": {
      "text/plain": [
       "[' is', ' largest', ' Analytics', ' community', ' of', ' India']"
      ]
     },
     "execution_count": 55,
     "metadata": {},
     "output_type": "execute_result"
    }
   ],
   "source": [
    "re.findall(r'\\b[^aeiouAEIOU]\\w*',s)"
   ]
  },
  {
   "cell_type": "code",
   "execution_count": 56,
   "id": "4f1d23e4",
   "metadata": {},
   "outputs": [
    {
     "data": {
      "text/plain": [
       "['largest', 'community']"
      ]
     },
     "execution_count": 56,
     "metadata": {},
     "output_type": "execute_result"
    }
   ],
   "source": [
    "#space is the major problem \n",
    "#not including space\n",
    "re.findall(r'\\b[^aeiouAEIOU ]\\w*',s)"
   ]
  },
  {
   "cell_type": "markdown",
   "id": "a6eca4dc",
   "metadata": {},
   "source": [
    "**Problem 6: Validate a phone number (phone number must be of 10 digits and starts with 8 or 9)**"
   ]
  },
  {
   "cell_type": "code",
   "execution_count": 60,
   "id": "a687fa09",
   "metadata": {},
   "outputs": [
    {
     "data": {
      "text/plain": [
       "['9999999999', '999999-999', '99999x9999']"
      ]
     },
     "execution_count": 60,
     "metadata": {},
     "output_type": "execute_result"
    }
   ],
   "source": [
    "li=['9999999999','999999-999','99999x9999']\n",
    "li"
   ]
  },
  {
   "cell_type": "code",
   "execution_count": 62,
   "id": "11a62730",
   "metadata": {},
   "outputs": [
    {
     "name": "stdout",
     "output_type": "stream",
     "text": [
      "9999999999\n"
     ]
    }
   ],
   "source": [
    "for i in li:\n",
    "    if len(i)==10 and re.match('[98]\\d{9}',i):\n",
    "        print(i)"
   ]
  }
 ],
 "metadata": {
  "kernelspec": {
   "display_name": "Python 3",
   "language": "python",
   "name": "python3"
  },
  "language_info": {
   "codemirror_mode": {
    "name": "ipython",
    "version": 3
   },
   "file_extension": ".py",
   "mimetype": "text/x-python",
   "name": "python",
   "nbconvert_exporter": "python",
   "pygments_lexer": "ipython3",
   "version": "3.8.8"
  }
 },
 "nbformat": 4,
 "nbformat_minor": 5
}
