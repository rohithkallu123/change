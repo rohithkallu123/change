{
 "cells": [
  {
   "cell_type": "markdown",
   "id": "82e74e8f",
   "metadata": {},
   "source": [
    "## LOGISTIC REGRESSION WITH NEURAL NETWORK MINDSET"
   ]
  },
  {
   "cell_type": "code",
   "execution_count": 1,
   "id": "65e9815d",
   "metadata": {},
   "outputs": [],
   "source": [
    "#INITIALISING THE PARAMETERS\n",
    "#CALCULATING THE COST FUNCTION AND GRADIENT FUNCTION\n",
    "#GRADIENT DESCENT "
   ]
  },
  {
   "cell_type": "markdown",
   "id": "d27e5282",
   "metadata": {},
   "source": [
    "### PACKAGES"
   ]
  },
  {
   "cell_type": "code",
   "execution_count": 2,
   "id": "a7a5e3ea",
   "metadata": {},
   "outputs": [],
   "source": [
    "import numpy as np\n",
    "import matplotlib.pyplot as plt\n",
    "%matplotlib inline\n",
    "#h5py is a common package to interact with a dataset that is stored on an H5 file.\n",
    "import h5py\n",
    "#PIL and scipy are used here to test your model with your own picture at the end.\n",
    "from PIL import Image\n",
    "from scipy import ndimage\n",
    "from lr_utils import load_dataset"
   ]
  },
  {
   "cell_type": "code",
   "execution_count": 3,
   "id": "219e9ae0",
   "metadata": {},
   "outputs": [],
   "source": [
    "train=h5py.File('train_catvnoncat.h5','r')"
   ]
  },
  {
   "cell_type": "code",
   "execution_count": 4,
   "id": "afa2cbb6",
   "metadata": {},
   "outputs": [
    {
     "data": {
      "text/plain": [
       "<KeysViewHDF5 ['list_classes', 'train_set_x', 'train_set_y']>"
      ]
     },
     "execution_count": 4,
     "metadata": {},
     "output_type": "execute_result"
    }
   ],
   "source": [
    "train.keys()"
   ]
  },
  {
   "cell_type": "code",
   "execution_count": 5,
   "id": "5bce4488",
   "metadata": {},
   "outputs": [],
   "source": [
    "train_set_x=train.get('train_set_x')\n",
    "train_set_y=train.get('train_set_y')"
   ]
  },
  {
   "cell_type": "code",
   "execution_count": 6,
   "id": "3e00bdc0",
   "metadata": {},
   "outputs": [
    {
     "data": {
      "text/plain": [
       "array([[[17, 31, 56],\n",
       "        [22, 33, 59],\n",
       "        [25, 35, 62],\n",
       "        ...,\n",
       "        [ 1, 28, 57],\n",
       "        [ 1, 26, 56],\n",
       "        [ 1, 22, 51]],\n",
       "\n",
       "       [[25, 36, 62],\n",
       "        [28, 38, 64],\n",
       "        [30, 40, 67],\n",
       "        ...,\n",
       "        [ 1, 27, 56],\n",
       "        [ 1, 25, 55],\n",
       "        [ 2, 21, 51]],\n",
       "\n",
       "       [[32, 40, 67],\n",
       "        [34, 42, 69],\n",
       "        [35, 42, 70],\n",
       "        ...,\n",
       "        [ 1, 25, 55],\n",
       "        [ 0, 24, 54],\n",
       "        [ 1, 21, 51]],\n",
       "\n",
       "       ...,\n",
       "\n",
       "       [[ 0,  0,  0],\n",
       "        [ 0,  0,  0],\n",
       "        [ 0,  0,  0],\n",
       "        ...,\n",
       "        [ 0,  0,  0],\n",
       "        [ 0,  0,  0],\n",
       "        [ 0,  0,  0]],\n",
       "\n",
       "       [[ 0,  0,  0],\n",
       "        [ 0,  0,  0],\n",
       "        [ 0,  0,  0],\n",
       "        ...,\n",
       "        [ 0,  0,  0],\n",
       "        [ 0,  0,  0],\n",
       "        [ 0,  0,  0]],\n",
       "\n",
       "       [[ 0,  0,  0],\n",
       "        [ 0,  0,  0],\n",
       "        [ 0,  0,  0],\n",
       "        ...,\n",
       "        [ 0,  0,  0],\n",
       "        [ 0,  0,  0],\n",
       "        [ 0,  0,  0]]], dtype=uint8)"
      ]
     },
     "execution_count": 6,
     "metadata": {},
     "output_type": "execute_result"
    }
   ],
   "source": [
    "train_set_x[0]"
   ]
  },
  {
   "cell_type": "code",
   "execution_count": 7,
   "id": "c98e2019",
   "metadata": {},
   "outputs": [
    {
     "data": {
      "text/plain": [
       "<matplotlib.image.AxesImage at 0x28042ef7160>"
      ]
     },
     "execution_count": 7,
     "metadata": {},
     "output_type": "execute_result"
    },
    {
     "data": {
      "image/png": "[encoded data removed]",
      "text/plain": [
       "<Figure size 432x288 with 1 Axes>"
      ]
     },
     "metadata": {
      "needs_background": "light"
     },
     "output_type": "display_data"
    }
   ],
   "source": [
    "plt.imshow(train_set_x[0])"
   ]
  },
  {
   "cell_type": "code",
   "execution_count": 8,
   "id": "eb0c9c31",
   "metadata": {},
   "outputs": [
    {
     "data": {
      "text/plain": [
       "(209, 64, 64, 3)"
      ]
     },
     "execution_count": 8,
     "metadata": {},
     "output_type": "execute_result"
    }
   ],
   "source": [
    "train_set_x.shape"
   ]
  },
  {
   "cell_type": "code",
   "execution_count": 9,
   "id": "fca11ac6",
   "metadata": {},
   "outputs": [
    {
     "data": {
      "text/plain": [
       "h5py._hl.dataset.Dataset"
      ]
     },
     "execution_count": 9,
     "metadata": {},
     "output_type": "execute_result"
    }
   ],
   "source": [
    "type(train_set_x)"
   ]
  },
  {
   "cell_type": "code",
   "execution_count": 10,
   "id": "267955c7",
   "metadata": {},
   "outputs": [],
   "source": [
    "#converting the dataset to numpy array\n",
    "train_set_x=np.array(train_set_x)\n",
    "train_set_y=np.array(train_set_y)"
   ]
  },
  {
   "cell_type": "code",
   "execution_count": 11,
   "id": "f60200fb",
   "metadata": {},
   "outputs": [
    {
     "data": {
      "text/plain": [
       "array([[[17, 31, 56],\n",
       "        [22, 33, 59],\n",
       "        [25, 35, 62],\n",
       "        ...,\n",
       "        [ 1, 28, 57],\n",
       "        [ 1, 26, 56],\n",
       "        [ 1, 22, 51]],\n",
       "\n",
       "       [[25, 36, 62],\n",
       "        [28, 38, 64],\n",
       "        [30, 40, 67],\n",
       "        ...,\n",
       "        [ 1, 27, 56],\n",
       "        [ 1, 25, 55],\n",
       "        [ 2, 21, 51]],\n",
       "\n",
       "       [[32, 40, 67],\n",
       "        [34, 42, 69],\n",
       "        [35, 42, 70],\n",
       "        ...,\n",
       "        [ 1, 25, 55],\n",
       "        [ 0, 24, 54],\n",
       "        [ 1, 21, 51]],\n",
       "\n",
       "       ...,\n",
       "\n",
       "       [[ 0,  0,  0],\n",
       "        [ 0,  0,  0],\n",
       "        [ 0,  0,  0],\n",
       "        ...,\n",
       "        [ 0,  0,  0],\n",
       "        [ 0,  0,  0],\n",
       "        [ 0,  0,  0]],\n",
       "\n",
       "       [[ 0,  0,  0],\n",
       "        [ 0,  0,  0],\n",
       "        [ 0,  0,  0],\n",
       "        ...,\n",
       "        [ 0,  0,  0],\n",
       "        [ 0,  0,  0],\n",
       "        [ 0,  0,  0]],\n",
       "\n",
       "       [[ 0,  0,  0],\n",
       "        [ 0,  0,  0],\n",
       "        [ 0,  0,  0],\n",
       "        ...,\n",
       "        [ 0,  0,  0],\n",
       "        [ 0,  0,  0],\n",
       "        [ 0,  0,  0]]], dtype=uint8)"
      ]
     },
     "execution_count": 11,
     "metadata": {},
     "output_type": "execute_result"
    }
   ],
   "source": [
    "train_set_x[0]"
   ]
  },
  {
   "cell_type": "code",
   "execution_count": 12,
   "id": "a56f773f",
   "metadata": {},
   "outputs": [
    {
     "data": {
      "text/plain": [
       "<matplotlib.image.AxesImage at 0x28043670b80>"
      ]
     },
     "execution_count": 12,
     "metadata": {},
     "output_type": "execute_result"
    },
    {
     "data": {
      "image/png": "[encoded data removed]",
      "text/plain": [
       "<Figure size 432x288 with 1 Axes>"
      ]
     },
     "metadata": {
      "needs_background": "light"
     },
     "output_type": "display_data"
    }
   ],
   "source": [
    "plt.imshow(train_set_x[2])"
   ]
  },
  {
   "cell_type": "code",
   "execution_count": 13,
   "id": "237a7c2b",
   "metadata": {},
   "outputs": [
    {
     "data": {
      "text/plain": [
       "numpy.ndarray"
      ]
     },
     "execution_count": 13,
     "metadata": {},
     "output_type": "execute_result"
    }
   ],
   "source": [
    "type(train_set_x)"
   ]
  },
  {
   "cell_type": "code",
   "execution_count": 14,
   "id": "9802cbfc",
   "metadata": {},
   "outputs": [
    {
     "data": {
      "text/plain": [
       "<KeysViewHDF5 ['list_classes', 'test_set_x', 'test_set_y']>"
      ]
     },
     "execution_count": 14,
     "metadata": {},
     "output_type": "execute_result"
    }
   ],
   "source": [
    "#importing the test data\n",
    "test=h5py.File('test_catvnoncat.h5','r')\n",
    "test.keys()"
   ]
  },
  {
   "cell_type": "code",
   "execution_count": 15,
   "id": "843a4c8f",
   "metadata": {},
   "outputs": [],
   "source": [
    "test_set_x=test.get('test_set_x')\n",
    "test_set_y=test.get('test_set_y')"
   ]
  },
  {
   "cell_type": "code",
   "execution_count": 16,
   "id": "d984c083",
   "metadata": {},
   "outputs": [],
   "source": [
    "test_set_x=np.array(test_set_x)\n",
    "test_set_y=np.array(test_set_y)"
   ]
  },
  {
   "cell_type": "code",
   "execution_count": 17,
   "id": "c6138678",
   "metadata": {},
   "outputs": [
    {
     "data": {
      "text/plain": [
       "<matplotlib.image.AxesImage at 0x280436d8dc0>"
      ]
     },
     "execution_count": 17,
     "metadata": {},
     "output_type": "execute_result"
    },
    {
     "data": {
      "image/png": "[encoded data removed]",
      "text/plain": [
       "<Figure size 432x288 with 1 Axes>"
      ]
     },
     "metadata": {
      "needs_background": "light"
     },
     "output_type": "display_data"
    }
   ],
   "source": [
    "plt.imshow(test_set_x[0])"
   ]
  },
  {
   "cell_type": "code",
   "execution_count": 18,
   "id": "63070ea6",
   "metadata": {},
   "outputs": [
    {
     "data": {
      "text/plain": [
       "1"
      ]
     },
     "execution_count": 18,
     "metadata": {},
     "output_type": "execute_result"
    }
   ],
   "source": [
    "test_set_y[0]"
   ]
  },
  {
   "cell_type": "code",
   "execution_count": 19,
   "id": "00dd2731",
   "metadata": {},
   "outputs": [],
   "source": [
    "#NO OF TRAINING EXAMPLES--- MTRAIN----m_train\n",
    "#NO OF TESTING EXAMPLES---MTEST----m_test\n",
    "#num_px  height =width"
   ]
  },
  {
   "cell_type": "code",
   "execution_count": 20,
   "id": "a933fa6d",
   "metadata": {},
   "outputs": [
    {
     "data": {
      "text/plain": [
       "209"
      ]
     },
     "execution_count": 20,
     "metadata": {},
     "output_type": "execute_result"
    }
   ],
   "source": [
    "train_set_x.shape[0]"
   ]
  },
  {
   "cell_type": "code",
   "execution_count": 21,
   "id": "d66f5735",
   "metadata": {},
   "outputs": [
    {
     "data": {
      "text/plain": [
       "50"
      ]
     },
     "execution_count": 21,
     "metadata": {},
     "output_type": "execute_result"
    }
   ],
   "source": [
    "test_set_x.shape[0]"
   ]
  },
  {
   "cell_type": "code",
   "execution_count": 22,
   "id": "ae494b86",
   "metadata": {},
   "outputs": [
    {
     "data": {
      "text/plain": [
       "(209, 64, 64, 3)"
      ]
     },
     "execution_count": 22,
     "metadata": {},
     "output_type": "execute_result"
    }
   ],
   "source": [
    "train_set_x.shape"
   ]
  },
  {
   "cell_type": "code",
   "execution_count": 23,
   "id": "9cd7dad1",
   "metadata": {},
   "outputs": [
    {
     "name": "stdout",
     "output_type": "stream",
     "text": [
      "no of training examples is: 209\n",
      "no of testing examples is: 50\n",
      "height /width of the image is: 64\n"
     ]
    }
   ],
   "source": [
    "m_train=train_set_x.shape[0]\n",
    "m_test=test_set_x.shape[0]\n",
    "num_px=train_set_x.shape[1]\n",
    "print('no of training examples is:',m_train)\n",
    "print('no of testing examples is:',m_test)\n",
    "print('height /width of the image is:',num_px)"
   ]
  },
  {
   "cell_type": "code",
   "execution_count": 24,
   "id": "3a3e4813",
   "metadata": {},
   "outputs": [
    {
     "data": {
      "text/plain": [
       "(209, 64, 64, 3)"
      ]
     },
     "execution_count": 24,
     "metadata": {},
     "output_type": "execute_result"
    }
   ],
   "source": [
    "#reshaping the picture array to column vector which will be useful for model learning\n",
    "train_set_x.shape"
   ]
  },
  {
   "cell_type": "code",
   "execution_count": 25,
   "id": "1870b9ce",
   "metadata": {},
   "outputs": [],
   "source": [
    "#flattenning the array using the reshape function\n",
    "X_train_flatten=train_set_x.reshape(train_set_x.shape[1]*train_set_x.shape[2]*train_set_x.shape[3],train_set_x.shape[0])\n",
    "X_test_flatten=test_set_x.reshape(test_set_x.shape[1]*test_set_x.shape[2]*test_set_x.shape[3],test_set_x.shape[0])"
   ]
  },
  {
   "cell_type": "code",
   "execution_count": 26,
   "id": "40aa2fd4",
   "metadata": {},
   "outputs": [],
   "source": [
    "y_train=train_set_y.reshape(1,len(train_set_y))\n",
    "y_test=test_set_y.reshape(1,len(test_set_y))"
   ]
  },
  {
   "cell_type": "code",
   "execution_count": 27,
   "id": "229aa915",
   "metadata": {},
   "outputs": [
    {
     "name": "stdout",
     "output_type": "stream",
     "text": [
      "X_train_flatten shape: (12288, 209)\n",
      "X_test_flatten shape: (12288, 50)\n",
      "\n",
      "y_train shape: (1, 209)\n",
      "y_train shape: (1, 50)\n"
     ]
    }
   ],
   "source": [
    "print('X_train_flatten shape:',X_train_flatten.shape)\n",
    "print('X_test_flatten shape:',X_test_flatten.shape)\n",
    "print()\n",
    "print('y_train shape:',y_train.shape)\n",
    "print('y_train shape:',y_test.shape)"
   ]
  },
  {
   "cell_type": "markdown",
   "id": "0a396166",
   "metadata": {},
   "source": [
    "### helper functions"
   ]
  },
  {
   "cell_type": "code",
   "execution_count": 28,
   "id": "bc4feee3",
   "metadata": {},
   "outputs": [],
   "source": [
    "def sigmoid(z):\n",
    "    return (1/(1+np.exp(-z)))"
   ]
  },
  {
   "cell_type": "code",
   "execution_count": 29,
   "id": "6b350077",
   "metadata": {},
   "outputs": [
    {
     "name": "stdout",
     "output_type": "stream",
     "text": [
      "sigmoid([0, 2]) = [0.5        0.88079708]\n"
     ]
    }
   ],
   "source": [
    "print (\"sigmoid([0, 2]) = \" + str(sigmoid(np.array([0,2]))))"
   ]
  },
  {
   "cell_type": "code",
   "execution_count": 30,
   "id": "1ab9310a",
   "metadata": {},
   "outputs": [],
   "source": [
    "#scaling the data\n",
    "X_train=X_train_flatten/255\n",
    "X_test=X_test_flatten/255"
   ]
  },
  {
   "cell_type": "code",
   "execution_count": 31,
   "id": "47d16443",
   "metadata": {},
   "outputs": [],
   "source": [
    "#initialising the parametrs\n",
    "def initialize_with_zero(dim):\n",
    "    w=np.zeros((dim,1))\n",
    "    b=0\n",
    "    assert(w.shape == (dim, 1))\n",
    "    assert(isinstance(b, float) or isinstance(b, int))\n",
    "    \n",
    "    return w, b\n"
   ]
  },
  {
   "cell_type": "code",
   "execution_count": 32,
   "id": "c17c95b8",
   "metadata": {},
   "outputs": [
    {
     "name": "stdout",
     "output_type": "stream",
     "text": [
      "w:\n",
      " [[0.]\n",
      " [0.]]\n",
      "b:\n",
      " 0\n"
     ]
    }
   ],
   "source": [
    "dim=2\n",
    "w,b=initialize_with_zero(dim)\n",
    "print('w:\\n',w)\n",
    "print('b:\\n',b)"
   ]
  },
  {
   "cell_type": "markdown",
   "id": "96c6cf08",
   "metadata": {},
   "source": [
    "### forward and backward propagation"
   ]
  },
  {
   "cell_type": "code",
   "execution_count": 33,
   "id": "a679223f",
   "metadata": {},
   "outputs": [],
   "source": [
    "#impelemnting a function that computes cost function and gradient\n",
    "def propagate(w,b,X,Y):\n",
    "    \"\"\"\n",
    "    Implement the cost function and its gradient for the propagation explained above\n",
    "\n",
    "    Arguments:\n",
    "    w -- weights, a numpy array of size (num_px * num_px * 3, 1)\n",
    "    b -- bias, a scalar\n",
    "    X -- data of size (num_px * num_px * 3, number of examples)\n",
    "    Y -- true \"label\" vector (containing 0 if non-cat, 1 if cat) of size (1, number of examples)\n",
    "\n",
    "    Return:\n",
    "    cost -- negative log-likelihood cost for logistic regression\n",
    "    dw -- gradient of the loss with respect to w, thus same shape as w\n",
    "    db -- gradient of the loss with respect to b, thus same shape as b\n",
    "    \n",
    "    Tips:\n",
    "    - Write your code step by step for the propagation. np.log(), np.dot()\n",
    "    \"\"\"\n",
    "    m=X.shape[1]\n",
    "    \n",
    "    #froward propagation\n",
    "    A=sigmoid(np.dot(w.T,X)+b)\n",
    "    cost=-(1/m)*(np.sum(Y*np.log(A)+(1-Y)*np.log(1-A)))\n",
    "    \n",
    "    #backward propagation\n",
    "    dw=np.dot(X,(A-Y).T)/m\n",
    "    db=np.sum(A-Y)/m\n",
    "    \n",
    "    assert(dw.shape == w.shape)\n",
    "    assert(db.dtype == float)\n",
    "    cost = np.squeeze(cost)\n",
    "    assert(cost.shape == ())\n",
    "    \n",
    "    \n",
    "    grads = {\"dw\": dw,\n",
    "             \"db\": db}\n",
    "    \n",
    "    return grads, cost\n"
   ]
  },
  {
   "cell_type": "code",
   "execution_count": 34,
   "id": "af3ed9c1",
   "metadata": {},
   "outputs": [
    {
     "name": "stdout",
     "output_type": "stream",
     "text": [
      "dw = [[0.99845601]\n",
      " [2.39507239]]\n",
      "db = 0.001455578136784208\n",
      "cost = 5.801545319394553\n"
     ]
    }
   ],
   "source": [
    "w, b, X, Y = np.array([[1.],[2.]]), 2., np.array([[1.,2.,-1.],[3.,4.,-3.2]]), np.array([[1,0,1]])\n",
    "grads, cost = propagate(w, b, X, Y)\n",
    "print (\"dw = \" + str(grads[\"dw\"]))\n",
    "print (\"db = \" + str(grads[\"db\"]))\n",
    "print (\"cost = \" + str(cost))"
   ]
  },
  {
   "cell_type": "markdown",
   "id": "2c396e56",
   "metadata": {},
   "source": [
    "### updating the parameters using a function"
   ]
  },
  {
   "cell_type": "code",
   "execution_count": 35,
   "id": "dca61077",
   "metadata": {},
   "outputs": [],
   "source": [
    "def optimize(w,b,X,Y,num_iter,learning_rate,print_cost=False):\n",
    "    costs=[]\n",
    "    for i in range(num_iter):\n",
    "        grads, cost = propagate(w, b, X, Y)\n",
    "        \n",
    "        dw=grads['dw']\n",
    "        db=grads['db']\n",
    "        \n",
    "        #updating\n",
    "        w=w-learning_rate*dw\n",
    "        b=b-learning_rate*db\n",
    "        #appending the cost for every 100 th iteration\n",
    "        \n",
    "        if i%100==0:\n",
    "            costs.append(cost)\n",
    "        if i%100==0 and print_cost:\n",
    "            print (\"Cost after iteration %i: %f\" %(i, cost))\n",
    "    params={'w':w,'b':b}\n",
    "    grads={'dw':dw,'db':db}\n",
    "    \n",
    "    return params,grads,costs"
   ]
  },
  {
   "cell_type": "code",
   "execution_count": 36,
   "id": "a4e85981",
   "metadata": {},
   "outputs": [
    {
     "name": "stdout",
     "output_type": "stream",
     "text": [
      "w = [[0.19033591]\n",
      " [0.12259159]]\n",
      "b = 1.9253598300845747\n",
      "dw = [[0.67752042]\n",
      " [1.41625495]]\n",
      "db = 0.21919450454067654\n"
     ]
    }
   ],
   "source": [
    "params, grads, costs = optimize(w, b, X, Y, num_iter= 100, learning_rate = 0.009, print_cost = False)\n",
    "\n",
    "print (\"w = \" + str(params[\"w\"]))\n",
    "print (\"b = \" + str(params[\"b\"]))\n",
    "print (\"dw = \" + str(grads[\"dw\"]))\n",
    "print (\"db = \" + str(grads[\"db\"]))"
   ]
  },
  {
   "cell_type": "code",
   "execution_count": 37,
   "id": "dd1919a6",
   "metadata": {},
   "outputs": [
    {
     "data": {
      "text/plain": [
       "[<matplotlib.lines.Line2D at 0x2804374e400>]"
      ]
     },
     "execution_count": 37,
     "metadata": {},
     "output_type": "execute_result"
    },
    {
     "data": {
      "image/png": "[encoded data removed]",
      "text/plain": [
       "<Figure size 432x288 with 1 Axes>"
      ]
     },
     "metadata": {
      "needs_background": "light"
     },
     "output_type": "display_data"
    }
   ],
   "source": [
    "import matplotlib.pyplot as plt\n",
    "plt.plot(costs)\n"
   ]
  },
  {
   "cell_type": "code",
   "execution_count": 38,
   "id": "225febf4",
   "metadata": {},
   "outputs": [
    {
     "data": {
      "text/plain": [
       "[5.801545319394553]"
      ]
     },
     "execution_count": 38,
     "metadata": {},
     "output_type": "execute_result"
    }
   ],
   "source": [
    "costs"
   ]
  },
  {
   "cell_type": "code",
   "execution_count": 39,
   "id": "67486c15",
   "metadata": {},
   "outputs": [],
   "source": [
    "#creating a prediction function\n",
    "def predict(w,b,X):\n",
    "    m=X.shape[1]\n",
    "    Y_prediction = np.zeros((1,m))\n",
    "    w = w.reshape(X.shape[0], 1)\n",
    "    \n",
    "    A = sigmoid(np.dot(w.T,X) + b)           \n",
    "    \n",
    "    Y_prediction = (A >= 0.5) * 1.0\n",
    "    \n",
    "    assert(Y_prediction.shape == (1, m))\n",
    "    \n",
    "    return Y_prediction\n"
   ]
  },
  {
   "cell_type": "code",
   "execution_count": 40,
   "id": "5b89b58f",
   "metadata": {},
   "outputs": [
    {
     "name": "stdout",
     "output_type": "stream",
     "text": [
      "predictions = [[1. 1. 0.]]\n"
     ]
    }
   ],
   "source": [
    "w = np.array([[0.1124579],[0.23106775]])\n",
    "b = -0.3\n",
    "X = np.array([[1.,-1.1,-3.2],[1.2,2.,0.1]])\n",
    "print (\"predictions = \" + str(predict(w, b, X)))"
   ]
  },
  {
   "cell_type": "markdown",
   "id": "9c050685",
   "metadata": {},
   "source": [
    "### merge al functions into a model"
   ]
  },
  {
   "cell_type": "code",
   "execution_count": 41,
   "id": "7f26c0ba",
   "metadata": {},
   "outputs": [
    {
     "data": {
      "text/plain": [
       "(12288, 209)"
      ]
     },
     "execution_count": 41,
     "metadata": {},
     "output_type": "execute_result"
    }
   ],
   "source": [
    "X_train_flatten.shape"
   ]
  },
  {
   "cell_type": "code",
   "execution_count": 47,
   "id": "991f24e4",
   "metadata": {},
   "outputs": [],
   "source": [
    "def model(X_train,X_test,y_train,y_test,num_iterations=2000,learning_rate=0.5,print_cost=False):\n",
    "    \n",
    "    #initialise the parameters\n",
    "    w,b=initialize_with_zero(X_train_flatten.shape[0])\n",
    "    \n",
    "    #gradient descent\n",
    "    parameters, grads, costs = optimize(w, b, X_train, y_train, num_iterations, learning_rate, print_cost)\n",
    "    \n",
    "    #retriving the w and b\n",
    "    w=parameters['w']\n",
    "    b=parameters['b']\n",
    "    \n",
    "    #doing the prediction\n",
    "    y_train_predict=predict(w,b,X_train)\n",
    "    y_test_predict=predict(w,b,X_test)\n",
    "    \n",
    "    # Print train/test Errors\n",
    "    print(\"train accuracy: {} %\".format(100 - np.mean(np.abs(y_train_predict - y_train)) * 100))\n",
    "    print(\"test accuracy: {} %\".format(100 - np.mean(np.abs(y_test_predict - y_test)) * 100))\n",
    "\n",
    "    \n",
    "    d = {\"costs\": costs,\n",
    "         \"Y_prediction_test\": y_test_predict, \n",
    "         \"Y_prediction_train\" : y_train_predict, \n",
    "         \"w\" : w, \n",
    "         \"b\" : b,\n",
    "         \"learning_rate\" : learning_rate,\n",
    "         \"num_iterations\": num_iterations}\n",
    "    \n",
    "    return d\n",
    "    "
   ]
  },
  {
   "cell_type": "code",
   "execution_count": 61,
   "id": "acd7b7c7",
   "metadata": {},
   "outputs": [
    {
     "name": "stderr",
     "output_type": "stream",
     "text": [
      "<ipython-input-28-e917b25034e6>:2: RuntimeWarning: overflow encountered in exp\n",
      "  return (1/(1+np.exp(-z)))\n",
      "<ipython-input-33-50469626b816>:24: RuntimeWarning: divide by zero encountered in log\n",
      "  cost=-(1/m)*(np.sum(Y*np.log(A)+(1-Y)*np.log(1-A)))\n",
      "<ipython-input-33-50469626b816>:24: RuntimeWarning: invalid value encountered in multiply\n",
      "  cost=-(1/m)*(np.sum(Y*np.log(A)+(1-Y)*np.log(1-A)))\n"
     ]
    },
    {
     "name": "stdout",
     "output_type": "stream",
     "text": [
      "train accuracy: 77.03349282296651 %\n",
      "test accuracy: 34.0 %\n"
     ]
    }
   ],
   "source": [
    "d = model(X_train_flatten,X_test_flatten,y_train,y_test, num_iterations = 3000, learning_rate = 0.005, print_cost = False)\n"
   ]
  },
  {
   "cell_type": "code",
   "execution_count": 62,
   "id": "6c14c3f6",
   "metadata": {},
   "outputs": [
    {
     "data": {
      "image/png": "[encoded data removed]",
      "text/plain": [
       "<Figure size 432x288 with 1 Axes>"
      ]
     },
     "metadata": {
      "needs_background": "light"
     },
     "output_type": "display_data"
    }
   ],
   "source": [
    "costs = np.squeeze(d['costs'])\n",
    "plt.plot(costs)\n",
    "plt.ylabel('cost')\n",
    "plt.xlabel('iterations (per hundreds)')\n",
    "plt.title(\"Learning rate =\" + str(d[\"learning_rate\"]))\n",
    "plt.show()"
   ]
  },
  {
   "cell_type": "code",
   "execution_count": 63,
   "id": "cf2ab068",
   "metadata": {},
   "outputs": [
    {
     "data": {
      "text/plain": [
       "[0.6931471805599453,\n",
       " nan,\n",
       " nan,\n",
       " nan,\n",
       " nan,\n",
       " nan,\n",
       " nan,\n",
       " nan,\n",
       " nan,\n",
       " nan,\n",
       " nan,\n",
       " nan,\n",
       " nan,\n",
       " nan,\n",
       " nan,\n",
       " nan,\n",
       " nan,\n",
       " nan,\n",
       " nan,\n",
       " nan,\n",
       " nan,\n",
       " nan,\n",
       " nan,\n",
       " nan,\n",
       " nan,\n",
       " nan,\n",
       " nan,\n",
       " nan,\n",
       " nan,\n",
       " nan]"
      ]
     },
     "execution_count": 63,
     "metadata": {},
     "output_type": "execute_result"
    }
   ],
   "source": [
    "d['costs']"
   ]
  },
  {
   "cell_type": "code",
   "execution_count": 66,
   "id": "d6121674",
   "metadata": {},
   "outputs": [
    {
     "name": "stdout",
     "output_type": "stream",
     "text": [
      "learning rate is: 0.01\n",
      "train accuracy: 73.6842105263158 %\n",
      "test accuracy: 34.0 %\n",
      "\n",
      "-------------------------------------------------------\n",
      "\n",
      "learning rate is: 0.001\n",
      "train accuracy: 74.64114832535886 %\n",
      "test accuracy: 34.0 %\n",
      "\n",
      "-------------------------------------------------------\n",
      "\n",
      "learning rate is: 0.0001\n",
      "train accuracy: 66.98564593301435 %\n",
      "test accuracy: 34.0 %\n",
      "\n",
      "-------------------------------------------------------\n",
      "\n"
     ]
    }
   ],
   "source": [
    "learning_rates = [0.01, 0.001, 0.0001]\n",
    "\n",
    "#creating a different number of models\n",
    "models={}\n",
    "for i in learning_rates:\n",
    "    print (\"learning rate is: \" + str(i))\n",
    "    models[str(i)]=model(X_train,\n",
    "    X_test,\n",
    "    y_train,\n",
    "    y_test,\n",
    "    num_iterations=2000,\n",
    "    learning_rate=i,\n",
    "    print_cost=False,)\n",
    "    print ('\\n' + \"-------------------------------------------------------\" + '\\n')"
   ]
  },
  {
   "cell_type": "code",
   "execution_count": 67,
   "id": "ef7599cb",
   "metadata": {},
   "outputs": [
    {
     "data": {
      "image/png": "[encoded data removed]",
      "text/plain": [
       "<Figure size 432x288 with 1 Axes>"
      ]
     },
     "metadata": {
      "needs_background": "light"
     },
     "output_type": "display_data"
    }
   ],
   "source": [
    "#graphs for different learnign rate\n",
    "for i in learning_rates:\n",
    "    plt.plot(np.squeeze(models[str(i)][\"costs\"]), label= str(models[str(i)][\"learning_rate\"]))\n",
    "\n",
    "plt.ylabel('cost')\n",
    "plt.xlabel('iterations (hundreds)')\n",
    "\n",
    "legend = plt.legend(loc='upper center', shadow=True)\n",
    "frame = legend.get_frame()\n",
    "frame.set_facecolor('0.90')\n",
    "plt.show()"
   ]
  },
  {
   "cell_type": "code",
   "execution_count": null,
   "id": "f7d42f62",
   "metadata": {},
   "outputs": [],
   "source": []
  }
 ],
 "metadata": {
  "kernelspec": {
   "display_name": "Python 3",
   "language": "python",
   "name": "python3"
  },
  "language_info": {
   "codemirror_mode": {
    "name": "ipython",
    "version": 3
   },
   "file_extension": ".py",
   "mimetype": "text/x-python",
   "name": "python",
   "nbconvert_exporter": "python",
   "pygments_lexer": "ipython3",
   "version": "3.8.8"
  }
 },
 "nbformat": 4,
 "nbformat_minor": 5
}
